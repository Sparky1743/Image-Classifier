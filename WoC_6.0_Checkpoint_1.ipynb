{
 "cells": [
  {
   "cell_type": "code",
   "execution_count": 1,
   "id": "2442d951",
   "metadata": {},
   "outputs": [],
   "source": [
    "import numpy as np"
   ]
  },
  {
   "cell_type": "code",
   "execution_count": 2,
   "id": "f2db14dc",
   "metadata": {},
   "outputs": [
    {
     "name": "stdout",
     "output_type": "stream",
     "text": [
      "[1 2 3 4 5]\n"
     ]
    }
   ],
   "source": [
    "# Creating a numpy array\n",
    "arr = np.array([1, 2, 3, 4, 5 ])\n",
    "print(arr)"
   ]
  },
  {
   "cell_type": "code",
   "execution_count": 3,
   "id": "8c259a63",
   "metadata": {},
   "outputs": [
    {
     "name": "stdout",
     "output_type": "stream",
     "text": [
      "[0. 0. 0. 0. 0. 0. 0. 0. 0.]\n",
      "9\n"
     ]
    }
   ],
   "source": [
    "# Create an array with 9 zeros\n",
    "zeros = np.zeros(9)\n",
    "print(zeros)\n",
    "print(len(zeros))"
   ]
  },
  {
   "cell_type": "code",
   "execution_count": 4,
   "id": "eeca3293",
   "metadata": {},
   "outputs": [
    {
     "name": "stdout",
     "output_type": "stream",
     "text": [
      "[1. 1. 1. 1. 1. 1. 1. 1. 1. 1. 1. 1. 1. 1. 1. 1. 1. 1. 1. 1. 1. 1. 1. 1.\n",
      " 1. 1. 1. 1. 1. 1. 1. 1. 1. 1. 1. 1. 1. 1. 1. 1. 1. 1. 1. 1. 1. 1. 1. 1.\n",
      " 1. 1. 1. 1. 1. 1. 1. 1. 1. 1. 1. 1. 1. 1. 1. 1. 1. 1. 1. 1. 1. 1. 1. 1.\n",
      " 1. 1. 1. 1. 1. 1. 1. 1. 1. 1. 1. 1. 1. 1. 1. 1. 1. 1. 1. 1. 1. 1. 1. 1.\n",
      " 1. 1. 1. 1.]\n",
      "100\n"
     ]
    }
   ],
   "source": [
    "# Create an array with 100 ones\n",
    "ones = np.ones(100)\n",
    "print(ones)\n",
    "print(len(ones))"
   ]
  },
  {
   "cell_type": "code",
   "execution_count": 5,
   "id": "47b9876c",
   "metadata": {},
   "outputs": [
    {
     "name": "stdout",
     "output_type": "stream",
     "text": [
      "Shape of matrix before applying reshape function: (2, 3)\n",
      "Shape of matrix after applying reshape function: (3, 2)\n"
     ]
    }
   ],
   "source": [
    "# Correcting the matrix to have equal-length rows\n",
    "matrix = np.array([[1, 2, 3], [4, 5, 6]]) # indicates two rows and three columns \n",
    "\n",
    "print(\"Shape of matrix before applying reshape function:\", matrix.shape)\n",
    "matrix_reshaped = np.reshape(matrix, (3, 2))\n",
    "print(\"Shape of matrix after applying reshape function:\", matrix_reshaped.shape)"
   ]
  },
  {
   "cell_type": "code",
   "execution_count": 6,
   "id": "79e76297",
   "metadata": {},
   "outputs": [
    {
     "name": "stdout",
     "output_type": "stream",
     "text": [
      "[[1 2 3 4]\n",
      " [5 6 7 8]]\n",
      "------------------\n",
      "[[ 9 10 11 12]\n",
      " [13 14 15 16]]\n",
      "------------------\n",
      "[[ 1  2  3  4  9 10 11 12]\n",
      " [ 5  6  7  8 13 14 15 16]]\n",
      "------------------\n",
      "[[ 1  2  3  4]\n",
      " [ 5  6  7  8]\n",
      " [ 9 10 11 12]\n",
      " [13 14 15 16]]\n"
     ]
    }
   ],
   "source": [
    "# Joining two arrays\n",
    "matrix1 = np.array([[1, 2, 3, 4], [5, 6, 7, 8]])\n",
    "matrix2 = np.array([[9, 10, 11 ,12], [13, 14, 15, 16]])\n",
    "print(matrix1)\n",
    "print(\"------------------\")\n",
    "print(matrix2)\n",
    "print(\"------------------\")\n",
    "matrix3 = np.concatenate((matrix1, matrix2), axis = 1) # column wise\n",
    "print(matrix3)\n",
    "print(\"------------------\")\n",
    "matrix4 = np.concatenate((matrix1, matrix2), axis = 0) # row wise\n",
    "print(matrix4)"
   ]
  },
  {
   "cell_type": "code",
   "execution_count": 7,
   "id": "fb5e3c08",
   "metadata": {},
   "outputs": [
    {
     "name": "stdout",
     "output_type": "stream",
     "text": [
      "5.5\n"
     ]
    }
   ],
   "source": [
    "# Finding mean in an array/matrix\n",
    "seq = np.array([1, 2, 3, 4, 5, 6, 7, 8, 9 ,10])\n",
    "print(seq.mean())"
   ]
  },
  {
   "cell_type": "code",
   "execution_count": 8,
   "id": "88fd59a2",
   "metadata": {},
   "outputs": [
    {
     "name": "stdout",
     "output_type": "stream",
     "text": [
      "55\n"
     ]
    }
   ],
   "source": [
    "# Finding the sum in an array/matrix\n",
    "print(seq.sum())"
   ]
  },
  {
   "cell_type": "code",
   "execution_count": 9,
   "id": "3173ac8a",
   "metadata": {},
   "outputs": [
    {
     "name": "stdout",
     "output_type": "stream",
     "text": [
      "0\n"
     ]
    }
   ],
   "source": [
    "# Finding the min in an array/matrix\n",
    "seq2 = np.array([[1, 2, 3, 4], [5, 0, 10, 9]])\n",
    "print(seq2.min())"
   ]
  },
  {
   "cell_type": "code",
   "execution_count": 10,
   "id": "32ae993e",
   "metadata": {},
   "outputs": [
    {
     "name": "stdout",
     "output_type": "stream",
     "text": [
      "10\n"
     ]
    }
   ],
   "source": [
    "# Finding the max in an array/matrix\n",
    "print(seq2.max())"
   ]
  },
  {
   "cell_type": "code",
   "execution_count": 11,
   "id": "815f37cf",
   "metadata": {},
   "outputs": [
    {
     "name": "stdout",
     "output_type": "stream",
     "text": [
      "[[1]\n",
      " [3]\n",
      " [3]]\n"
     ]
    }
   ],
   "source": [
    "# Finding the index of the max value\n",
    "seq3 = np.matrix([[1,200,3,33],[4,5,6,66],[7,8,9,99]])\n",
    "print(np.argmax(seq3, axis = 1)) # returns index of the max value in each column"
   ]
  },
  {
   "cell_type": "code",
   "execution_count": 12,
   "id": "fd22bbb1",
   "metadata": {},
   "outputs": [
    {
     "name": "stdout",
     "output_type": "stream",
     "text": [
      "[[2]\n",
      " [0]\n",
      " [0]]\n"
     ]
    }
   ],
   "source": [
    "# Finding the index of the min value\\\n",
    "seq3 = np.matrix([[10,200,3,33],[4,5,6,66],[7,8,9,99]])\n",
    "print(np.argmin(seq3, axis = 1)) # returns index of the min value in each column"
   ]
  },
  {
   "cell_type": "code",
   "execution_count": 13,
   "id": "e3c63ffd",
   "metadata": {},
   "outputs": [
    {
     "name": "stdout",
     "output_type": "stream",
     "text": [
      "[[0.04920526 0.76400429 0.78181321 0.86225451 0.01938729]\n",
      " [0.19322047 0.89952687 0.93889095 0.95817125 0.17439809]\n",
      " [0.53866542 0.55604439 0.12462593 0.62111243 0.39522214]]\n"
     ]
    }
   ],
   "source": [
    "# Creating a random array with random floats\n",
    "random_arr = np.random.rand(3, 5)\n",
    "print(random_arr)"
   ]
  },
  {
   "cell_type": "code",
   "execution_count": 14,
   "id": "609b1a0d",
   "metadata": {},
   "outputs": [
    {
     "name": "stdout",
     "output_type": "stream",
     "text": [
      "[[ 2.21765804  0.82411185 -0.9520953   0.73368041  0.71648607]\n",
      " [-0.60274055 -0.7862422  -3.12504934  2.06748033  0.37407877]\n",
      " [-1.65794197 -0.91645635  0.41150848  1.07670262  1.14339103]]\n"
     ]
    }
   ],
   "source": [
    "# Creating or samples from the “standard normal” distribution.\n",
    "random_gauss = np.random.randn(3, 5)\n",
    "print(random_gauss)"
   ]
  },
  {
   "cell_type": "code",
   "execution_count": 15,
   "id": "8e08ede9",
   "metadata": {},
   "outputs": [
    {
     "name": "stdout",
     "output_type": "stream",
     "text": [
      "[4 5 4 8 4 5 4 9 9 7]\n"
     ]
    }
   ],
   "source": [
    "# Creating random intergers between limits 4.5 and 10.9\n",
    "rand_ints = np.random.randint(low = 4.5,high = 10.9, size = 10 )\n",
    "print(rand_ints)"
   ]
  },
  {
   "cell_type": "code",
   "execution_count": 17,
   "id": "3b34aa96",
   "metadata": {},
   "outputs": [
    {
     "ename": "TypeError",
     "evalue": "'builtin_function_or_method' object is not subscriptable",
     "output_type": "error",
     "traceback": [
      "\u001b[1;31m---------------------------------------------------------------------------\u001b[0m",
      "\u001b[1;31mTypeError\u001b[0m                                 Traceback (most recent call last)",
      "Cell \u001b[1;32mIn[17], line 2\u001b[0m\n\u001b[0;32m      1\u001b[0m \u001b[38;5;66;03m# taking dot product of two vectors\u001b[39;00m\n\u001b[1;32m----> 2\u001b[0m \u001b[38;5;28mprint\u001b[39m(np\u001b[38;5;241m.\u001b[39mdot(\u001b[43mnp\u001b[49m\u001b[38;5;241;43m.\u001b[39;49m\u001b[43marray\u001b[49m\u001b[43m[\u001b[49m\u001b[38;5;241;43m1\u001b[39;49m\u001b[43m,\u001b[49m\u001b[43m \u001b[49m\u001b[38;5;241;43m2\u001b[39;49m\u001b[43m,\u001b[49m\u001b[43m \u001b[49m\u001b[38;5;241;43m3\u001b[39;49m\u001b[43m]\u001b[49m), np\u001b[38;5;241m.\u001b[39marray([\u001b[38;5;241m4\u001b[39m, \u001b[38;5;241m5\u001b[39m, \u001b[38;5;241m6\u001b[39m]))\n",
      "\u001b[1;31mTypeError\u001b[0m: 'builtin_function_or_method' object is not subscriptable"
     ]
    }
   ],
   "source": [
    "# taking dot product of two vectors\n",
    "a = 2 + 33j\n",
    "b = 14 + 5j\n",
    "print(np.dot()"
   ]
  }
 ],
 "metadata": {
  "kernelspec": {
   "display_name": "Python 3 (ipykernel)",
   "language": "python",
   "name": "python3"
  },
  "language_info": {
   "codemirror_mode": {
    "name": "ipython",
    "version": 3
   },
   "file_extension": ".py",
   "mimetype": "text/x-python",
   "name": "python",
   "nbconvert_exporter": "python",
   "pygments_lexer": "ipython3",
   "version": "3.11.1"
  }
 },
 "nbformat": 4,
 "nbformat_minor": 5
}
