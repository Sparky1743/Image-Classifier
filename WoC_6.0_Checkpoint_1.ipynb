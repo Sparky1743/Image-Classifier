{
 "cells": [
  {
   "cell_type": "code",
   "execution_count": 1,
   "id": "38a1e9d9",
   "metadata": {},
   "outputs": [],
   "source": [
    "import numpy as np"
   ]
  },
  {
   "cell_type": "code",
   "execution_count": 2,
   "id": "ef913914",
   "metadata": {},
   "outputs": [
    {
     "name": "stdout",
     "output_type": "stream",
     "text": [
      "[1 2 3 4 5]\n"
     ]
    }
   ],
   "source": [
    "# Creating a numpy array\n",
    "arr = np.array([1, 2, 3, 4, 5 ])\n",
    "print(arr)"
   ]
  },
  {
   "cell_type": "code",
   "execution_count": 3,
   "id": "e4eeeb82",
   "metadata": {},
   "outputs": [
    {
     "name": "stdout",
     "output_type": "stream",
     "text": [
      "[0. 0. 0. 0. 0. 0. 0. 0. 0.]\n",
      "9\n"
     ]
    }
   ],
   "source": [
    "# Create an array with 9 zeros\n",
    "zeros = np.zeros(9)\n",
    "print(zeros)\n",
    "print(len(zeros))"
   ]
  },
  {
   "cell_type": "code",
   "execution_count": 4,
   "id": "69c1aed5",
   "metadata": {},
   "outputs": [
    {
     "name": "stdout",
     "output_type": "stream",
     "text": [
      "[1. 1. 1. 1. 1. 1. 1. 1. 1. 1. 1. 1. 1. 1. 1. 1. 1. 1. 1. 1. 1. 1. 1. 1.\n",
      " 1. 1. 1. 1. 1. 1. 1. 1. 1. 1. 1. 1. 1. 1. 1. 1. 1. 1. 1. 1. 1. 1. 1. 1.\n",
      " 1. 1. 1. 1. 1. 1. 1. 1. 1. 1. 1. 1. 1. 1. 1. 1. 1. 1. 1. 1. 1. 1. 1. 1.\n",
      " 1. 1. 1. 1. 1. 1. 1. 1. 1. 1. 1. 1. 1. 1. 1. 1. 1. 1. 1. 1. 1. 1. 1. 1.\n",
      " 1. 1. 1. 1.]\n",
      "100\n"
     ]
    }
   ],
   "source": [
    "# Create an array with 100 ones\n",
    "ones = np.ones(100)\n",
    "print(ones)\n",
    "print(len(ones))"
   ]
  },
  {
   "cell_type": "code",
   "execution_count": 5,
   "id": "876f9d93",
   "metadata": {},
   "outputs": [
    {
     "name": "stdout",
     "output_type": "stream",
     "text": [
      "Shape of matrix before applying reshape function: (2, 3)\n",
      "Shape of matrix after applying reshape function: (3, 2)\n"
     ]
    }
   ],
   "source": [
    "# Correcting the matrix to have equal-length rows\n",
    "matrix = np.array([[1, 2, 3], [4, 5, 6]]) # indicates two rows and three columns \n",
    "\n",
    "print(\"Shape of matrix before applying reshape function:\", matrix.shape)\n",
    "matrix_reshaped = np.reshape(matrix, (3, 2))\n",
    "print(\"Shape of matrix after applying reshape function:\", matrix_reshaped.shape)"
   ]
  },
  {
   "cell_type": "code",
   "execution_count": 6,
   "id": "28ad021a",
   "metadata": {},
   "outputs": [
    {
     "name": "stdout",
     "output_type": "stream",
     "text": [
      "[[1 2 3 4]\n",
      " [5 6 7 8]]\n",
      "------------------\n",
      "[[ 9 10 11 12]\n",
      " [13 14 15 16]]\n",
      "------------------\n",
      "[[ 1  2  3  4  9 10 11 12]\n",
      " [ 5  6  7  8 13 14 15 16]]\n",
      "------------------\n",
      "[[ 1  2  3  4]\n",
      " [ 5  6  7  8]\n",
      " [ 9 10 11 12]\n",
      " [13 14 15 16]]\n"
     ]
    }
   ],
   "source": [
    "# Joining two arrays\n",
    "matrix1 = np.array([[1, 2, 3, 4], [5, 6, 7, 8]])\n",
    "matrix2 = np.array([[9, 10, 11 ,12], [13, 14, 15, 16]])\n",
    "print(matrix1)\n",
    "print(\"------------------\")\n",
    "print(matrix2)\n",
    "print(\"------------------\")\n",
    "matrix3 = np.concatenate((matrix1, matrix2), axis = 1) # column wise\n",
    "print(matrix3)\n",
    "print(\"------------------\")\n",
    "matrix4 = np.concatenate((matrix1, matrix2), axis = 0) # row wise\n",
    "print(matrix4)"
   ]
  },
  {
   "cell_type": "code",
   "execution_count": 7,
   "id": "f3d301aa",
   "metadata": {},
   "outputs": [
    {
     "name": "stdout",
     "output_type": "stream",
     "text": [
      "5.5\n"
     ]
    }
   ],
   "source": [
    "# Finding mean in an array/matrix\n",
    "seq = np.array([1, 2, 3, 4, 5, 6, 7, 8, 9 ,10])\n",
    "print(seq.mean())"
   ]
  },
  {
   "cell_type": "code",
   "execution_count": 8,
   "id": "4b4b0fe7",
   "metadata": {},
   "outputs": [
    {
     "name": "stdout",
     "output_type": "stream",
     "text": [
      "55\n"
     ]
    }
   ],
   "source": [
    "# Finding the sum in an array/matrix\n",
    "print(seq.sum())"
   ]
  },
  {
   "cell_type": "code",
   "execution_count": 9,
   "id": "a4bb75e9",
   "metadata": {},
   "outputs": [
    {
     "name": "stdout",
     "output_type": "stream",
     "text": [
      "0\n"
     ]
    }
   ],
   "source": [
    "# Finding the min in an array/matrix\n",
    "seq2 = np.array([[1, 2, 3, 4], [5, 0, 10, 9]])\n",
    "print(seq2.min())"
   ]
  },
  {
   "cell_type": "code",
   "execution_count": 10,
   "id": "98c9af90",
   "metadata": {},
   "outputs": [
    {
     "name": "stdout",
     "output_type": "stream",
     "text": [
      "10\n"
     ]
    }
   ],
   "source": [
    "# Finding the max in an array/matrix\n",
    "print(seq2.max())"
   ]
  },
  {
   "cell_type": "code",
   "execution_count": 11,
   "id": "acc9d178",
   "metadata": {},
   "outputs": [
    {
     "name": "stdout",
     "output_type": "stream",
     "text": [
      "[[1]\n",
      " [3]\n",
      " [3]]\n"
     ]
    }
   ],
   "source": [
    "# Finding the index of the max value\n",
    "seq3 = np.matrix([[1,200,3,33],[4,5,6,66],[7,8,9,99]])\n",
    "print(np.argmax(seq3, axis = 1)) # returns index of the max value in each column"
   ]
  },
  {
   "cell_type": "code",
   "execution_count": 12,
   "id": "b860e418",
   "metadata": {},
   "outputs": [
    {
     "name": "stdout",
     "output_type": "stream",
     "text": [
      "[[2]\n",
      " [0]\n",
      " [0]]\n"
     ]
    }
   ],
   "source": [
    "# Finding the index of the min value\\\n",
    "seq3 = np.matrix([[10,200,3,33],[4,5,6,66],[7,8,9,99]])\n",
    "print(np.argmin(seq3, axis = 1)) # returns index of the min value in each column"
   ]
  },
  {
   "cell_type": "code",
   "execution_count": 13,
   "id": "66bded39",
   "metadata": {},
   "outputs": [
    {
     "name": "stdout",
     "output_type": "stream",
     "text": [
      "[[0.88872671 0.64148689 0.11741628 0.97250557 0.22898795]\n",
      " [0.1232381  0.56653075 0.41946965 0.1273502  0.36796165]\n",
      " [0.60315349 0.43477454 0.02260687 0.32108343 0.9605094 ]]\n"
     ]
    }
   ],
   "source": [
    "# Creating a random array with random floats\n",
    "random_arr = np.random.rand(3, 5)\n",
    "print(random_arr)"
   ]
  },
  {
   "cell_type": "code",
   "execution_count": 14,
   "id": "8065f4e7",
   "metadata": {},
   "outputs": [
    {
     "name": "stdout",
     "output_type": "stream",
     "text": [
      "[[ 0.06980241 -0.1938083   0.2764738  -0.87408946 -1.32524406]\n",
      " [ 0.99475427  1.08538272 -0.25787741  0.84705699 -0.40900987]\n",
      " [ 1.38960066 -0.59740429 -0.19186128  0.17031976  0.40338161]]\n"
     ]
    }
   ],
   "source": [
    "# Creating or samples from the “standard normal” distribution.\n",
    "random_gauss = np.random.randn(3, 5)\n",
    "print(random_gauss)"
   ]
  },
  {
   "cell_type": "code",
   "execution_count": 15,
   "id": "bebbe521",
   "metadata": {},
   "outputs": [
    {
     "name": "stdout",
     "output_type": "stream",
     "text": [
      "[8 8 4 8 5 4 9 4 5 8]\n"
     ]
    }
   ],
   "source": [
    "# Creating random intergers between limits 4.5 and 10.9\n",
    "rand_ints = np.random.randint(low = 4.5,high = 10.9, size = 10 )\n",
    "print(rand_ints)"
   ]
  },
  {
   "cell_type": "code",
   "execution_count": 16,
   "id": "5d5bdc9d",
   "metadata": {},
   "outputs": [
    {
     "name": "stdout",
     "output_type": "stream",
     "text": [
      "(-137+472j)\n"
     ]
    }
   ],
   "source": [
    "# taking dot product of two vectors\n",
    "a = 2 + 33j\n",
    "b = 14 + 5j\n",
    "print(np.dot(a, b)) # 2(14 + 5j) + 33j(14 +5j)"
   ]
  }
 ],
 "metadata": {
  "kernelspec": {
   "display_name": "Python 3 (ipykernel)",
   "language": "python",
   "name": "python3"
  },
  "language_info": {
   "codemirror_mode": {
    "name": "ipython",
    "version": 3
   },
   "file_extension": ".py",
   "mimetype": "text/x-python",
   "name": "python",
   "nbconvert_exporter": "python",
   "pygments_lexer": "ipython3",
   "version": "3.11.1"
  }
 },
 "nbformat": 4,
 "nbformat_minor": 5
}
