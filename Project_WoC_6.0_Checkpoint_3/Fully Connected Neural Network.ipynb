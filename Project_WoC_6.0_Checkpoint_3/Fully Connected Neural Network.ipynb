{
 "cells": [
  {
   "cell_type": "code",
   "execution_count": 1,
   "id": "79774389",
   "metadata": {},
   "outputs": [],
   "source": [
    "import cv2\n",
    "import numpy as np\n",
    "import os\n",
    "import pandas as pd\n",
    "import tensorflow as tf\n",
    "import matplotlib.pyplot as plt\n",
    "from tensorflow.keras.models import Sequential\n",
    "from tensorflow.keras.layers import Dense\n",
    "from tensorflow.keras.activations import linear, relu, sigmoid\n",
    "from sklearn.model_selection import train_test_split\n",
    "from tensorflow.keras.callbacks import EarlyStopping"
   ]
  },
  {
   "cell_type": "markdown",
   "id": "7b19b17f",
   "metadata": {},
   "source": [
    "## Below is the code for Data Cleaning and Preprocessing"
   ]
  },
  {
   "cell_type": "code",
   "execution_count": 2,
   "id": "d115fa05",
   "metadata": {},
   "outputs": [
    {
     "name": "stdout",
     "output_type": "stream",
     "text": [
      "Failed to process image8 in dog_black_russian_terrier_images, going to next one\n",
      "Failed to process image38 in dog_black_russian_terrier_images, going to next one\n",
      "Failed to process image49 in dog_black_russian_terrier_images, going to next one\n",
      "Failed to process image52 in dog_black_russian_terrier_images, going to next one\n",
      "Failed to process image67 in dog_black_russian_terrier_images, going to next one\n",
      "Failed to process image69 in dog_black_russian_terrier_images, going to next one\n",
      "Failed to process image79 in dog_black_russian_terrier_images, going to next one\n",
      "Failed to process image87 in dog_black_russian_terrier_images, going to next one\n",
      "Failed to process image96 in dog_black_russian_terrier_images, going to next one\n",
      "Failed to process image99 in dog_black_russian_terrier_images, going to next one\n",
      "Failed to process image103 in dog_black_russian_terrier_images, going to next one\n",
      "Failed to process image129 in dog_black_russian_terrier_images, going to next one\n",
      "Failed to process image130 in dog_black_russian_terrier_images, going to next one\n",
      "Failed to process image131 in dog_black_russian_terrier_images, going to next one\n",
      "Failed to process image132 in dog_black_russian_terrier_images, going to next one\n",
      "Failed to process image133 in dog_black_russian_terrier_images, going to next one\n",
      "Failed to process image134 in dog_black_russian_terrier_images, going to next one\n",
      "Failed to process image135 in dog_black_russian_terrier_images, going to next one\n",
      "Failed to process image136 in dog_black_russian_terrier_images, going to next one\n",
      "Failed to process image137 in dog_black_russian_terrier_images, going to next one\n",
      "Failed to process image138 in dog_black_russian_terrier_images, going to next one\n",
      "Failed to process image139 in dog_black_russian_terrier_images, going to next one\n",
      "Filtered 118 / 140 images in dog_black_russian_terrier_images\n",
      "--------------------------------------------------------------------------------------------------\n",
      "Failed to process image28 in dog_bulldog_images, going to next one\n",
      "Failed to process image34 in dog_bulldog_images, going to next one\n",
      "Failed to process image35 in dog_bulldog_images, going to next one\n",
      "Failed to process image38 in dog_bulldog_images, going to next one\n",
      "Failed to process image48 in dog_bulldog_images, going to next one\n",
      "Failed to process image49 in dog_bulldog_images, going to next one\n",
      "Failed to process image51 in dog_bulldog_images, going to next one\n",
      "Failed to process image67 in dog_bulldog_images, going to next one\n",
      "Failed to process image82 in dog_bulldog_images, going to next one\n",
      "Failed to process image97 in dog_bulldog_images, going to next one\n",
      "Failed to process image98 in dog_bulldog_images, going to next one\n",
      "Failed to process image102 in dog_bulldog_images, going to next one\n",
      "Failed to process image103 in dog_bulldog_images, going to next one\n",
      "Failed to process image111 in dog_bulldog_images, going to next one\n",
      "Failed to process image122 in dog_bulldog_images, going to next one\n",
      "Failed to process image125 in dog_bulldog_images, going to next one\n",
      "Failed to process image127 in dog_bulldog_images, going to next one\n",
      "Failed to process image128 in dog_bulldog_images, going to next one\n",
      "Failed to process image130 in dog_bulldog_images, going to next one\n",
      "Filtered 121 / 140 images in dog_bulldog_images\n",
      "--------------------------------------------------------------------------------------------------\n",
      "Failed to process image48 in dog_dalmatian_images, going to next one\n",
      "Failed to process image50 in dog_dalmatian_images, going to next one\n",
      "Failed to process image55 in dog_dalmatian_images, going to next one\n",
      "Failed to process image68 in dog_dalmatian_images, going to next one\n",
      "Failed to process image76 in dog_dalmatian_images, going to next one\n",
      "Failed to process image79 in dog_dalmatian_images, going to next one\n",
      "Failed to process image82 in dog_dalmatian_images, going to next one\n",
      "Failed to process image86 in dog_dalmatian_images, going to next one\n",
      "Failed to process image93 in dog_dalmatian_images, going to next one\n",
      "Failed to process image102 in dog_dalmatian_images, going to next one\n",
      "Failed to process image106 in dog_dalmatian_images, going to next one\n",
      "Failed to process image107 in dog_dalmatian_images, going to next one\n",
      "Failed to process image111 in dog_dalmatian_images, going to next one\n",
      "Failed to process image117 in dog_dalmatian_images, going to next one\n",
      "Failed to process image119 in dog_dalmatian_images, going to next one\n",
      "Failed to process image127 in dog_dalmatian_images, going to next one\n",
      "Failed to process image137 in dog_dalmatian_images, going to next one\n",
      "Filtered 123 / 140 images in dog_dalmatian_images\n",
      "--------------------------------------------------------------------------------------------------\n",
      "Failed to process image18 in dog_german_shepherd_images, going to next one\n",
      "Failed to process image76 in dog_german_shepherd_images, going to next one\n",
      "Failed to process image83 in dog_german_shepherd_images, going to next one\n",
      "Failed to process image84 in dog_german_shepherd_images, going to next one\n",
      "Failed to process image92 in dog_german_shepherd_images, going to next one\n",
      "Failed to process image95 in dog_german_shepherd_images, going to next one\n",
      "Failed to process image125 in dog_german_shepherd_images, going to next one\n",
      "Failed to process image128 in dog_german_shepherd_images, going to next one\n",
      "Failed to process image133 in dog_german_shepherd_images, going to next one\n",
      "Failed to process image138 in dog_german_shepherd_images, going to next one\n",
      "Filtered 130 / 140 images in dog_german_shepherd_images\n",
      "--------------------------------------------------------------------------------------------------\n",
      "Failed to process image7 in dog_maltese_images, going to next one\n",
      "Failed to process image23 in dog_maltese_images, going to next one\n",
      "Failed to process image26 in dog_maltese_images, going to next one\n",
      "Failed to process image33 in dog_maltese_images, going to next one\n",
      "Failed to process image60 in dog_maltese_images, going to next one\n",
      "Failed to process image62 in dog_maltese_images, going to next one\n",
      "Failed to process image71 in dog_maltese_images, going to next one\n",
      "Failed to process image97 in dog_maltese_images, going to next one\n",
      "Failed to process image101 in dog_maltese_images, going to next one\n",
      "Failed to process image111 in dog_maltese_images, going to next one\n",
      "Filtered 130 / 140 images in dog_maltese_images\n",
      "--------------------------------------------------------------------------------------------------\n",
      "done\n"
     ]
    }
   ],
   "source": [
    "# 0 = black_russian_terrier\n",
    "# 1 = bulldog\n",
    "# 2 = dalmatian\n",
    "# 3 = german_shepherd\n",
    "# 4 = maltese\n",
    "\n",
    "new_dimensions = (150, 150)\n",
    "dataset_size = 140\n",
    "XTrain = []\n",
    "ytrain = []\n",
    "count = 0\n",
    "dog_list = ['dog_black_russian_terrier_images', 'dog_bulldog_images', 'dog_dalmatian_images', 'dog_german_shepherd_images', 'dog_maltese_images']\n",
    "\n",
    "for idx, dog in enumerate(dog_list):\n",
    "    count = 0\n",
    "    for j in range(dataset_size):\n",
    "        try:\n",
    "            path = r\"C:\\Users\\birud\\OneDrive - iitgn.ac.in\\github\\Image Classifier\\Dataset_WoC_6.0_Checkpoint_2\\%s\\%s.jpg\" % (dog, j)\n",
    "            image = cv2.imread(path)\n",
    "\n",
    "            # Convert all images to RGB model\n",
    "            rgb_image = cv2.cvtColor(image, cv2.COLOR_BGR2RGB)\n",
    "\n",
    "            # Resize the image\n",
    "            resized_image = cv2.resize(rgb_image, new_dimensions)\n",
    "\n",
    "            # Normalize pixel values to the range (0, 1)\n",
    "            normalized_image = resized_image / 255.0\n",
    "            pixels = np.array(normalized_image)\n",
    "            flattened_pixels = pixels.reshape(-1)\n",
    "\n",
    "        except:\n",
    "            print(f\"Failed to process image{j} in {dog}, going to next one\")\n",
    "            continue\n",
    "\n",
    "        if flattened_pixels[0] is not None:  # Checking if the first pixel is not None\n",
    "            XTrain.append(flattened_pixels)\n",
    "            count += 1\n",
    "\n",
    "    print(f'Filtered {count} / {dataset_size} images in {dog}')\n",
    "    print(\"--------------------------------------------------------------------------------------------------\")\n",
    "    choose_label = idx\n",
    "    for k in range(count): \n",
    "        ytrain.append(choose_label)\n",
    "\n",
    "print('done')\n"
   ]
  },
  {
   "cell_type": "code",
   "execution_count": 3,
   "id": "8f785a93",
   "metadata": {},
   "outputs": [
    {
     "name": "stdout",
     "output_type": "stream",
     "text": [
      "622\n",
      "622\n"
     ]
    }
   ],
   "source": [
    "print(len(ytrain))\n",
    "print(len(XTrain))"
   ]
  },
  {
   "cell_type": "code",
   "execution_count": 4,
   "id": "22225361",
   "metadata": {},
   "outputs": [
    {
     "name": "stdout",
     "output_type": "stream",
     "text": [
      "      pixel_0   pixel_1   pixel_2   pixel_3   pixel_4   pixel_5   pixel_6  \\\n",
      "0    0.337255  0.403922  0.235294  0.427451  0.498039  0.321569  0.439216   \n",
      "1    0.427451  0.333333  0.152941  0.431373  0.341176  0.141176  0.462745   \n",
      "2    0.584314  0.556863  0.325490  0.525490  0.556863  0.372549  0.607843   \n",
      "3    1.000000  1.000000  1.000000  1.000000  1.000000  1.000000  1.000000   \n",
      "4    0.792157  0.796078  0.823529  0.788235  0.796078  0.819608  0.784314   \n",
      "..        ...       ...       ...       ...       ...       ...       ...   \n",
      "617  0.792157  0.862745  0.909804  0.796078  0.866667  0.913725  0.800000   \n",
      "618  0.678431  0.690196  0.611765  0.639216  0.650980  0.588235  0.596078   \n",
      "619  0.141176  0.105882  0.039216  0.149020  0.113725  0.047059  0.160784   \n",
      "620  0.105882  0.325490  0.184314  0.086275  0.301961  0.188235  0.058824   \n",
      "621  0.156863  0.137255  0.019608  0.149020  0.129412  0.019608  0.156863   \n",
      "\n",
      "      pixel_7   pixel_8   pixel_9  ...  pixel_67490  pixel_67491  pixel_67492  \\\n",
      "0    0.505882  0.294118  0.376471  ...     0.466667     0.556863     0.682353   \n",
      "1    0.380392  0.117647  0.486275  ...     0.376471     0.729412     0.541176   \n",
      "2    0.611765  0.392157  0.756863  ...     0.298039     0.760784     0.847059   \n",
      "3    1.000000  1.000000  1.000000  ...     1.000000     1.000000     1.000000   \n",
      "4    0.792157  0.811765  0.788235  ...     0.988235     0.945098     0.968627   \n",
      "..        ...       ...       ...  ...          ...          ...          ...   \n",
      "617  0.870588  0.917647  0.807843  ...     1.000000     0.976471     0.996078   \n",
      "618  0.600000  0.564706  0.666667  ...     0.992157     1.000000     1.000000   \n",
      "619  0.125490  0.058824  0.172549  ...     0.443137     0.458824     0.454902   \n",
      "620  0.266667  0.176471  0.039216  ...     0.047059     0.047059     0.266667   \n",
      "621  0.125490  0.019608  0.164706  ...     0.298039     0.584314     0.537255   \n",
      "\n",
      "     pixel_67493  pixel_67494  pixel_67495  pixel_67496  pixel_67497  \\\n",
      "0       0.384314     0.584314     0.678431     0.364706     0.600000   \n",
      "1       0.403922     0.701961     0.521569     0.380392     0.725490   \n",
      "2       0.427451     0.831373     0.921569     0.623529     0.490196   \n",
      "3       1.000000     1.000000     1.000000     1.000000     1.000000   \n",
      "4       0.980392     0.937255     0.968627     0.976471     0.933333   \n",
      "..           ...          ...          ...          ...          ...   \n",
      "617     1.000000     0.945098     0.980392     0.992157     0.905882   \n",
      "618     0.992157     1.000000     1.000000     0.992157     1.000000   \n",
      "619     0.439216     0.486275     0.482353     0.462745     0.447059   \n",
      "620     0.078431     0.070588     0.274510     0.117647     0.058824   \n",
      "621     0.372549     0.501961     0.466667     0.317647     0.466667   \n",
      "\n",
      "     pixel_67498  pixel_67499  \n",
      "0       0.694118     0.325490  \n",
      "1       0.545098     0.403922  \n",
      "2       0.647059     0.266667  \n",
      "3       1.000000     1.000000  \n",
      "4       0.949020     0.964706  \n",
      "..           ...          ...  \n",
      "617     0.956863     0.972549  \n",
      "618     1.000000     0.992157  \n",
      "619     0.443137     0.423529  \n",
      "620     0.258824     0.113725  \n",
      "621     0.435294     0.298039  \n",
      "\n",
      "[622 rows x 67500 columns]\n",
      "---------------------------------------------------\n",
      "     Labels\n",
      "0         0\n",
      "1         0\n",
      "2         0\n",
      "3         0\n",
      "4         0\n",
      "..      ...\n",
      "617       4\n",
      "618       4\n",
      "619       4\n",
      "620       4\n",
      "621       4\n",
      "\n",
      "[622 rows x 1 columns]\n"
     ]
    }
   ],
   "source": [
    "column_names = [f\"pixel_{i}\" for i in range(67500)]\n",
    "Xtrain_df = pd.DataFrame(XTrain, columns=column_names)\n",
    "ytrain = np.array(ytrain)\n",
    "Ytrain_df = pd.DataFrame({'Labels': ytrain})\n",
    "# Display the DataFrame\n",
    "print(Xtrain_df)\n",
    "print(\"---------------------------------------------------\")\n",
    "print(Ytrain_df)"
   ]
  },
  {
   "cell_type": "code",
   "execution_count": 5,
   "id": "31155da9",
   "metadata": {},
   "outputs": [],
   "source": [
    "new_dimensions = (150, 150)\n",
    "# folder_name = 'Test_preprocessed'\n",
    "\n",
    "def preprocessing(i):\n",
    "        path = r'C:\\Users\\birud\\OneDrive - iitgn.ac.in\\github\\Image Classifier\\Project_WoC_6.0_Checkpoint_3\\Test_Images\\%s.jpg' %(i)\n",
    "        image = cv2.imread(path)\n",
    "        # Convert to RGB model\n",
    "        rgb_image = cv2.cvtColor(image, cv2.COLOR_BGR2RGB)\n",
    "\n",
    "        # Resize the image\n",
    "        resized_image = cv2.resize(rgb_image, new_dimensions)\n",
    "\n",
    "        # Normalize pixel values to the range (0, 1)\n",
    "        normalized_image = resized_image / 255.0\n",
    "        pixels = np.array(normalized_image)\n",
    "        flattened_pixels = pixels.reshape(-1)\n",
    "        \n",
    "        return flattened_pixels"
   ]
  },
  {
   "cell_type": "markdown",
   "id": "9d8ddb83",
   "metadata": {},
   "source": [
    "## Below Code is to Train the Model"
   ]
  },
  {
   "cell_type": "code",
   "execution_count": 6,
   "id": "1d2afed2",
   "metadata": {},
   "outputs": [],
   "source": [
    "train_data, test_data, train_labels, test_labels = train_test_split(Xtrain_df,Ytrain_df, test_size = 0.2, random_state = 42 )"
   ]
  },
  {
   "cell_type": "code",
   "execution_count": 7,
   "id": "f17834c9",
   "metadata": {},
   "outputs": [],
   "source": [
    "model = Sequential(\n",
    "    [               \n",
    "        tf.keras.Input(shape=(67500,)), \n",
    "        Dense(units = 500, activation = \"relu\"),\n",
    "        Dense(units = 250, activation = \"relu\"),\n",
    "        Dense(units = 150, activation = \"relu\"),\n",
    "        Dense(units = 5, activation = \"linear\"),\n",
    "    ], name = \"image_classifier\" \n",
    ")"
   ]
  },
  {
   "cell_type": "code",
   "execution_count": 8,
   "id": "763512f6",
   "metadata": {},
   "outputs": [
    {
     "name": "stdout",
     "output_type": "stream",
     "text": [
      "Model: \"image_classifier\"\n",
      "_________________________________________________________________\n",
      "Layer (type)                 Output Shape              Param #   \n",
      "=================================================================\n",
      "dense (Dense)                (None, 500)               33750500  \n",
      "_________________________________________________________________\n",
      "dense_1 (Dense)              (None, 250)               125250    \n",
      "_________________________________________________________________\n",
      "dense_2 (Dense)              (None, 150)               37650     \n",
      "_________________________________________________________________\n",
      "dense_3 (Dense)              (None, 5)                 755       \n",
      "=================================================================\n",
      "Total params: 33,914,155\n",
      "Trainable params: 33,914,155\n",
      "Non-trainable params: 0\n",
      "_________________________________________________________________\n"
     ]
    }
   ],
   "source": [
    "model.summary()"
   ]
  },
  {
   "cell_type": "code",
   "execution_count": 9,
   "id": "757200ad",
   "metadata": {},
   "outputs": [
    {
     "name": "stdout",
     "output_type": "stream",
     "text": [
      "W1 shape = (67500, 500), b1 shape = (500,)\n",
      "W2 shape = (500, 250), b2 shape = (250,)\n",
      "W3 shape = (250, 150), b3 shape = (150,)\n",
      "W4 shape = (150, 5), b4 shape = (5,)\n"
     ]
    }
   ],
   "source": [
    "[layer1, layer2, layer3, layer4] = model.layers\n",
    "W1,b1 = layer1.get_weights()\n",
    "W2,b2 = layer2.get_weights()\n",
    "W3,b3 = layer3.get_weights()\n",
    "W4,b4 = layer4.get_weights()\n",
    "print(f\"W1 shape = {W1.shape}, b1 shape = {b1.shape}\")\n",
    "print(f\"W2 shape = {W2.shape}, b2 shape = {b2.shape}\")\n",
    "print(f\"W3 shape = {W3.shape}, b3 shape = {b3.shape}\")\n",
    "print(f\"W4 shape = {W4.shape}, b4 shape = {b4.shape}\")"
   ]
  },
  {
   "cell_type": "code",
   "execution_count": 10,
   "id": "f1964879",
   "metadata": {},
   "outputs": [
    {
     "name": "stdout",
     "output_type": "stream",
     "text": [
      "Epoch 1/60\n",
      "13/13 [==============================] - 2s 112ms/step - loss: 2.4279 - accuracy: 0.2164 - val_loss: 1.7414 - val_accuracy: 0.2800\n",
      "Epoch 2/60\n",
      "13/13 [==============================] - 1s 76ms/step - loss: 1.4863 - accuracy: 0.3555 - val_loss: 1.5318 - val_accuracy: 0.4000\n",
      "Epoch 3/60\n",
      "13/13 [==============================] - 1s 78ms/step - loss: 1.3037 - accuracy: 0.4521 - val_loss: 1.3292 - val_accuracy: 0.4100\n",
      "Epoch 4/60\n",
      "13/13 [==============================] - 1s 75ms/step - loss: 1.1263 - accuracy: 0.5588 - val_loss: 1.6678 - val_accuracy: 0.4100\n",
      "Epoch 5/60\n",
      "13/13 [==============================] - 1s 74ms/step - loss: 1.2058 - accuracy: 0.5191 - val_loss: 1.6378 - val_accuracy: 0.3600\n",
      "Epoch 6/60\n",
      "13/13 [==============================] - 1s 74ms/step - loss: 1.0379 - accuracy: 0.5339 - val_loss: 1.5205 - val_accuracy: 0.4500\n",
      "Epoch 7/60\n",
      "13/13 [==============================] - 1s 74ms/step - loss: 1.1770 - accuracy: 0.5120 - val_loss: 1.7147 - val_accuracy: 0.3300\n",
      "Epoch 8/60\n",
      "13/13 [==============================] - 1s 75ms/step - loss: 0.9517 - accuracy: 0.6064 - val_loss: 1.3582 - val_accuracy: 0.4100\n",
      "Epoch 9/60\n",
      "13/13 [==============================] - 1s 74ms/step - loss: 0.7307 - accuracy: 0.7665 - val_loss: 1.2962 - val_accuracy: 0.5400\n",
      "Epoch 10/60\n",
      "13/13 [==============================] - 1s 76ms/step - loss: 0.6977 - accuracy: 0.7629 - val_loss: 1.4385 - val_accuracy: 0.5300\n",
      "Epoch 11/60\n",
      "13/13 [==============================] - 1s 74ms/step - loss: 0.8402 - accuracy: 0.6676 - val_loss: 1.6526 - val_accuracy: 0.4700\n",
      "Epoch 12/60\n",
      "13/13 [==============================] - 1s 74ms/step - loss: 0.7318 - accuracy: 0.6967 - val_loss: 1.8605 - val_accuracy: 0.3400\n",
      "Epoch 13/60\n",
      "13/13 [==============================] - 1s 75ms/step - loss: 0.7280 - accuracy: 0.7596 - val_loss: 1.7069 - val_accuracy: 0.4000\n",
      "Epoch 14/60\n",
      "13/13 [==============================] - 1s 75ms/step - loss: 0.6442 - accuracy: 0.7421 - val_loss: 1.5871 - val_accuracy: 0.4200\n",
      "Epoch 15/60\n",
      "13/13 [==============================] - 1s 75ms/step - loss: 0.4408 - accuracy: 0.8857 - val_loss: 1.4740 - val_accuracy: 0.5000\n",
      "Epoch 16/60\n",
      "13/13 [==============================] - 1s 77ms/step - loss: 0.4130 - accuracy: 0.8947 - val_loss: 1.5244 - val_accuracy: 0.4500\n",
      "Epoch 17/60\n",
      "13/13 [==============================] - 1s 76ms/step - loss: 0.4230 - accuracy: 0.8685 - val_loss: 1.5305 - val_accuracy: 0.4500\n",
      "Epoch 18/60\n",
      "13/13 [==============================] - 1s 75ms/step - loss: 0.4501 - accuracy: 0.8649 - val_loss: 1.4643 - val_accuracy: 0.4900\n",
      "Epoch 19/60\n",
      "13/13 [==============================] - 1s 76ms/step - loss: 0.3596 - accuracy: 0.9202 - val_loss: 1.5323 - val_accuracy: 0.4900\n"
     ]
    }
   ],
   "source": [
    "np.random.seed(42)\n",
    "tf.random.set_seed(42)\n",
    "\n",
    "model.compile(\n",
    "    loss=tf.keras.losses.SparseCategoricalCrossentropy(from_logits=True),\n",
    "    optimizer=tf.keras.optimizers.Adam(learning_rate=0.0001),\n",
    "    metrics = ['accuracy']\n",
    ")\n",
    "\n",
    "# Define EarlyStopping callback\n",
    "early_stopping = EarlyStopping(monitor='val_loss', patience=10, restore_best_weights=True)\n",
    "\n",
    "history = model.fit(\n",
    "    train_data,train_labels,\n",
    "    epochs=60, batch_size = 32, validation_split = 0.2,\n",
    "    callbacks=[early_stopping]\n",
    ")"
   ]
  },
  {
   "cell_type": "code",
   "execution_count": 11,
   "id": "0ea96300",
   "metadata": {},
   "outputs": [
    {
     "data": {
      "image/png": "[encoded data removed]",
      "text/plain": [
       "<Figure size 640x480 with 1 Axes>"
      ]
     },
     "metadata": {},
     "output_type": "display_data"
    },
    {
     "data": {
      "image/png": "[encoded data removed]",
      "text/plain": [
       "<Figure size 640x480 with 1 Axes>"
      ]
     },
     "metadata": {},
     "output_type": "display_data"
    }
   ],
   "source": [
    "# Plot training history\n",
    "plt.plot(history.history['loss'], label='training loss')\n",
    "plt.plot(history.history['val_loss'], label='validation loss')\n",
    "plt.xlabel('Epoch')\n",
    "plt.ylabel('Loss')\n",
    "plt.legend()\n",
    "plt.show()\n",
    "\n",
    "plt.plot(history.history['accuracy'], label='training accuracy')\n",
    "plt.plot(history.history['val_accuracy'], label='validation accuracy')\n",
    "plt.xlabel('Epoch')\n",
    "plt.ylabel('Accuracy')\n",
    "plt.legend()\n",
    "plt.show()"
   ]
  },
  {
   "cell_type": "code",
   "execution_count": 12,
   "id": "f78caf76",
   "metadata": {},
   "outputs": [
    {
     "name": "stdout",
     "output_type": "stream",
     "text": [
      "4/4 [==============================] - 0s 16ms/step - loss: 1.3918 - accuracy: 0.4560\n",
      "0.4560000002384186\n"
     ]
    }
   ],
   "source": [
    "test_loss, test_accuracy = model.evaluate(test_data, test_labels)\n",
    "print(test_accuracy)"
   ]
  },
  {
   "cell_type": "code",
   "execution_count": 13,
   "id": "e4e209a6",
   "metadata": {},
   "outputs": [
    {
     "name": "stdout",
     "output_type": "stream",
     "text": [
      " predicting a Five: \n",
      "[[ 0.14205885 -0.25353676  0.9446739  -0.90153784  0.43094295]]\n",
      " Largest Prediction index: 2\n",
      "--------------------------------------------------------------------\n",
      " predicting a Five. Probability vector: \n",
      "[[0.17883426 0.12040532 0.3990451  0.06298287 0.23873246]]\n",
      "Total of predictions: 1.000\n",
      "--------------------------------------------------------------------\n",
      "np.argmax(prediction_p): 2\n"
     ]
    }
   ],
   "source": [
    "# Load the test image\n",
    "test_image = preprocessing(2)\n",
    "\n",
    "prediction = model.predict(test_image.reshape(1,67500))  # prediction\n",
    "\n",
    "print(f\" predicting a Five: \\n{prediction}\")\n",
    "print(f\" Largest Prediction index: {np.argmax(prediction)}\")\n",
    "print(\"--------------------------------------------------------------------\")\n",
    "\n",
    "prediction_p = tf.nn.softmax(prediction)\n",
    "\n",
    "print(f\" predicting a Five. Probability vector: \\n{prediction_p}\")\n",
    "print(f\"Total of predictions: {np.sum(prediction_p):0.3f}\")\n",
    "print(\"--------------------------------------------------------------------\")\n",
    "\n",
    "yhat = np.argmax(prediction_p)\n",
    "\n",
    "print(f\"np.argmax(prediction_p): {yhat}\")\n",
    "\n",
    "# 0 = black_russian_terrier\n",
    "# 1 = bulldog\n",
    "# 2 = dalmatian\n",
    "# 3 = german_shepherd\n",
    "# 4 = maltese"
   ]
  }
 ],
 "metadata": {
  "kernelspec": {
   "display_name": "Python 3 (ipykernel)",
   "language": "python",
   "name": "python3"
  },
  "language_info": {
   "codemirror_mode": {
    "name": "ipython",
    "version": 3
   },
   "file_extension": ".py",
   "mimetype": "text/x-python",
   "name": "python",
   "nbconvert_exporter": "python",
   "pygments_lexer": "ipython3",
   "version": "3.7.3"
  }
 },
 "nbformat": 4,
 "nbformat_minor": 5
}
