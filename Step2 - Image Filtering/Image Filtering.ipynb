{
 "cells": [
  {
   "cell_type": "code",
   "execution_count": 70,
   "id": "9734e7e9",
   "metadata": {},
   "outputs": [],
   "source": [
    "import cv2\n",
    "import numpy as np\n",
    "import os\n",
    "import pandas as pd"
   ]
  },
  {
   "cell_type": "markdown",
   "id": "1d6e0bfb",
   "metadata": {},
   "source": [
    "## Below is the code for Data Cleaning and Preprocessing"
   ]
  },
  {
   "cell_type": "code",
   "execution_count": 71,
   "id": "bab16923",
   "metadata": {},
   "outputs": [],
   "source": [
    "XTrain = []\n",
    "ytrain = []"
   ]
  },
  {
   "cell_type": "code",
   "execution_count": 88,
   "id": "39c0be58",
   "metadata": {},
   "outputs": [
    {
     "name": "stdout",
     "output_type": "stream",
     "text": [
      "Failed to process image7, going to next one\n",
      "Failed to process image23, going to next one\n",
      "Failed to process image26, going to next one\n",
      "Failed to process image33, going to next one\n",
      "Failed to process image60, going to next one\n",
      "Failed to process image62, going to next one\n",
      "Failed to process image71, going to next one\n",
      "Failed to process image97, going to next one\n",
      "Failed to process image101, going to next one\n",
      "Failed to process image111, going to next one\n",
      "done\n",
      "Filtered 130 / 140 images\n"
     ]
    }
   ],
   "source": [
    "new_dimensions = (150, 150)\n",
    "dataset_size = 140\n",
    "count = 0\n",
    "if not os.path.isdir(folder_name):\n",
    "    os.makedirs(folder_name)\n",
    "\n",
    "for i in range(dataset_size):\n",
    "    try:\n",
    "        path = r\"C:\\Users\\birud\\OneDrive - iitgn.ac.in\\github\\Image Classifier\\Dataset_WoC_6.0_Checkpoint_2\\dog_maltese_images\\%s.jpg\" % (i)\n",
    "        image = cv2.imread(path)\n",
    "\n",
    "        # Convert all images to RGB model\n",
    "        rgb_image = cv2.cvtColor(image, cv2.COLOR_BGR2RGB)\n",
    "\n",
    "        # Resize the image\n",
    "        resized_image = cv2.resize(rgb_image, new_dimensions)\n",
    "\n",
    "        # Normalize pixel values to the range (0, 1)\n",
    "        normalized_image = resized_image / 255.0\n",
    "        pixels = np.array(normalized_image)\n",
    "        flattened_pixels = pixels.reshape(-1)\n",
    "        \n",
    "        \n",
    "    except:\n",
    "        print(f\"Failed to process image{i}, going to next one\")\n",
    "        missed_count += 1\n",
    "        continue\n",
    "        \n",
    "    if flattened_pixels[0] != None:\n",
    "        XTrain.append(flattened_pixels)\n",
    "        count += 1\n",
    "\n",
    "print('done')\n",
    "print(f'Filtered {count} / {dataset_size} images')"
   ]
  },
  {
   "cell_type": "code",
   "execution_count": 89,
   "id": "c50a37ab",
   "metadata": {},
   "outputs": [
    {
     "name": "stdout",
     "output_type": "stream",
     "text": [
      "622\n",
      "130\n"
     ]
    }
   ],
   "source": [
    "print(len(XTrain))\n",
    "print(count)"
   ]
  },
  {
   "cell_type": "code",
   "execution_count": 90,
   "id": "52fdc0f5",
   "metadata": {},
   "outputs": [],
   "source": [
    "# 0 = black_russian_terrier\n",
    "# 1 = bulldog\n",
    "# 2 = dalmatian\n",
    "# 3 = german_shepherd\n",
    "# 4 = maltese\n",
    "\n",
    "choose_label = 4\n",
    "for i in range(count):\n",
    "    ytrain.append(choose_label)"
   ]
  },
  {
   "cell_type": "code",
   "execution_count": 91,
   "id": "aa6286c6",
   "metadata": {},
   "outputs": [
    {
     "name": "stdout",
     "output_type": "stream",
     "text": [
      "622\n",
      "622\n"
     ]
    }
   ],
   "source": [
    "print(len(ytrain))\n",
    "print(len(XTrain))"
   ]
  },
  {
   "cell_type": "code",
   "execution_count": 93,
   "id": "6ea36497",
   "metadata": {},
   "outputs": [
    {
     "name": "stdout",
     "output_type": "stream",
     "text": [
      "      pixel_0   pixel_1   pixel_2   pixel_3   pixel_4   pixel_5   pixel_6  \\\n",
      "0    0.337255  0.403922  0.235294  0.427451  0.498039  0.321569  0.439216   \n",
      "1    0.427451  0.333333  0.152941  0.431373  0.341176  0.141176  0.462745   \n",
      "2    0.584314  0.556863  0.325490  0.525490  0.556863  0.372549  0.607843   \n",
      "3    1.000000  1.000000  1.000000  1.000000  1.000000  1.000000  1.000000   \n",
      "4    0.792157  0.796078  0.823529  0.788235  0.796078  0.819608  0.784314   \n",
      "..        ...       ...       ...       ...       ...       ...       ...   \n",
      "617  0.792157  0.862745  0.909804  0.796078  0.866667  0.913725  0.800000   \n",
      "618  0.678431  0.690196  0.611765  0.639216  0.650980  0.588235  0.596078   \n",
      "619  0.141176  0.105882  0.039216  0.149020  0.113725  0.047059  0.160784   \n",
      "620  0.105882  0.325490  0.184314  0.086275  0.301961  0.188235  0.058824   \n",
      "621  0.156863  0.137255  0.019608  0.149020  0.129412  0.019608  0.156863   \n",
      "\n",
      "      pixel_7   pixel_8   pixel_9  ...  pixel_67490  pixel_67491  pixel_67492  \\\n",
      "0    0.505882  0.294118  0.376471  ...     0.466667     0.556863     0.682353   \n",
      "1    0.380392  0.117647  0.486275  ...     0.376471     0.729412     0.541176   \n",
      "2    0.611765  0.392157  0.756863  ...     0.298039     0.760784     0.847059   \n",
      "3    1.000000  1.000000  1.000000  ...     1.000000     1.000000     1.000000   \n",
      "4    0.792157  0.811765  0.788235  ...     0.988235     0.945098     0.968627   \n",
      "..        ...       ...       ...  ...          ...          ...          ...   \n",
      "617  0.870588  0.917647  0.807843  ...     1.000000     0.976471     0.996078   \n",
      "618  0.600000  0.564706  0.666667  ...     0.992157     1.000000     1.000000   \n",
      "619  0.125490  0.058824  0.172549  ...     0.443137     0.458824     0.454902   \n",
      "620  0.266667  0.176471  0.039216  ...     0.047059     0.047059     0.266667   \n",
      "621  0.125490  0.019608  0.164706  ...     0.298039     0.584314     0.537255   \n",
      "\n",
      "     pixel_67493  pixel_67494  pixel_67495  pixel_67496  pixel_67497  \\\n",
      "0       0.384314     0.584314     0.678431     0.364706     0.600000   \n",
      "1       0.403922     0.701961     0.521569     0.380392     0.725490   \n",
      "2       0.427451     0.831373     0.921569     0.623529     0.490196   \n",
      "3       1.000000     1.000000     1.000000     1.000000     1.000000   \n",
      "4       0.980392     0.937255     0.968627     0.976471     0.933333   \n",
      "..           ...          ...          ...          ...          ...   \n",
      "617     1.000000     0.945098     0.980392     0.992157     0.905882   \n",
      "618     0.992157     1.000000     1.000000     0.992157     1.000000   \n",
      "619     0.439216     0.486275     0.482353     0.462745     0.447059   \n",
      "620     0.078431     0.070588     0.274510     0.117647     0.058824   \n",
      "621     0.372549     0.501961     0.466667     0.317647     0.466667   \n",
      "\n",
      "     pixel_67498  pixel_67499  \n",
      "0       0.694118     0.325490  \n",
      "1       0.545098     0.403922  \n",
      "2       0.647059     0.266667  \n",
      "3       1.000000     1.000000  \n",
      "4       0.949020     0.964706  \n",
      "..           ...          ...  \n",
      "617     0.956863     0.972549  \n",
      "618     1.000000     0.992157  \n",
      "619     0.443137     0.423529  \n",
      "620     0.258824     0.113725  \n",
      "621     0.435294     0.298039  \n",
      "\n",
      "[622 rows x 67500 columns]\n",
      "---------------------------------------------------\n",
      "     Labels\n",
      "0         0\n",
      "1         0\n",
      "2         0\n",
      "3         0\n",
      "4         0\n",
      "..      ...\n",
      "617       4\n",
      "618       4\n",
      "619       4\n",
      "620       4\n",
      "621       4\n",
      "\n",
      "[622 rows x 1 columns]\n"
     ]
    }
   ],
   "source": [
    "column_names = [f\"pixel_{i}\" for i in range(67500)]\n",
    "XTrain_df = pd.DataFrame(XTrain, columns=column_names)\n",
    "ytrain = np.array(ytrain)\n",
    "ytrain_df = pd.DataFrame({'Labels': ytrain})\n",
    "# Display the DataFrame\n",
    "print(XTrain_df)\n",
    "print(\"---------------------------------------------------\")\n",
    "print(ytrain_df)"
   ]
  },
  {
   "cell_type": "code",
   "execution_count": 94,
   "id": "6e0addac",
   "metadata": {},
   "outputs": [],
   "source": [
    "save_path = r\"C:\\Users\\birud\\OneDrive - iitgn.ac.in\\github\\Image Classifier\\Step3 - Model Creation\\Xtrain and Ytrain\"\n",
    "Xtrain_file = os.path.join(save_path, 'Xtrain.csv')\n",
    "Ytrain_file = os.path.join(save_path, 'Ytrain.csv')\n",
    "XTrain_df.to_csv(Xtrain_file, index=False)\n",
    "ytrain_df.to_csv(Ytrain_file, index=False)"
   ]
  }
 ],
 "metadata": {
  "kernelspec": {
   "display_name": "Python 3 (ipykernel)",
   "language": "python",
   "name": "python3"
  },
  "language_info": {
   "codemirror_mode": {
    "name": "ipython",
    "version": 3
   },
   "file_extension": ".py",
   "mimetype": "text/x-python",
   "name": "python",
   "nbconvert_exporter": "python",
   "pygments_lexer": "ipython3",
   "version": "3.11.1"
  }
 },
 "nbformat": 4,
 "nbformat_minor": 5
}
