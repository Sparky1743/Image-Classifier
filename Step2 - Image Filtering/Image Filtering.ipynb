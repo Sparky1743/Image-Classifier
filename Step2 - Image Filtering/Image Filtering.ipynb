{
 "cells": [
  {
   "cell_type": "code",
   "execution_count": 7,
   "id": "9734e7e9",
   "metadata": {},
   "outputs": [],
   "source": [
    "import cv2\n",
    "import numpy\n",
    "import os"
   ]
  },
  {
   "cell_type": "markdown",
   "id": "1d6e0bfb",
   "metadata": {},
   "source": [
    "## Below is the code for Data Cleaning and Preprocessing"
   ]
  },
  {
   "cell_type": "code",
   "execution_count": 11,
   "id": "39c0be58",
   "metadata": {},
   "outputs": [
    {
     "name": "stdout",
     "output_type": "stream",
     "text": [
      "Failed to process image7, going to next one\n",
      "Failed to process image23, going to next one\n",
      "Failed to process image26, going to next one\n",
      "Failed to process image33, going to next one\n",
      "Failed to process image60, going to next one\n",
      "Failed to process image62, going to next one\n",
      "Failed to process image71, going to next one\n",
      "Failed to process image101, going to next one\n",
      "Failed to process image111, going to next one\n",
      "done\n",
      "Filtered 131 / 140 images\n"
     ]
    }
   ],
   "source": [
    "folder_name = 'Filtered_maltese_images' \n",
    "new_dimensions = (150, 150)\n",
    "dataset_size = 140\n",
    "missed_count = 0\n",
    "\n",
    "if not os.path.isdir(folder_name):\n",
    "    os.makedirs(folder_name)\n",
    "\n",
    "for i in range(dataset_size):\n",
    "    try:\n",
    "        path = r\"C:\\Users\\birud\\OneDrive - iitgn.ac.in\\github\\Image Classifier\\WoC_6.0_Checkpoint_2\\dog_maltese_images\\%s.jpg\" % (i)\n",
    "        image = cv2.imread(path)\n",
    "\n",
    "        # Convert all images to RGB model\n",
    "        rgb_image = cv2.cvtColor(image, cv2.COLOR_BGR2RGB)\n",
    "\n",
    "        # Resize the image\n",
    "        resized_image = cv2.resize(rgb_image, new_dimensions)\n",
    "\n",
    "        # Normalize pixel values to the range (0, 1)\n",
    "        normalized_image = resized_image / 255.0\n",
    "\n",
    "        # Saving filtered images\n",
    "        save_path = os.path.join(folder_name, f\"{i}_resized_rgb_normalized.jpg\")\n",
    "        cv2.imwrite(save_path, (normalized_image * 255).astype('uint8'))\n",
    "        \n",
    "    except:\n",
    "        print(f\"Failed to process image{i}, going to next one\")\n",
    "        missed_count += 1\n",
    "        continue\n",
    "\n",
    "total_filtered = dataset_size - missed_count\n",
    "print('done')\n",
    "print(f'Filtered {total_filtered} / {dataset_size} images')"
   ]
  }
 ],
 "metadata": {
  "kernelspec": {
   "display_name": "Python 3 (ipykernel)",
   "language": "python",
   "name": "python3"
  },
  "language_info": {
   "codemirror_mode": {
    "name": "ipython",
    "version": 3
   },
   "file_extension": ".py",
   "mimetype": "text/x-python",
   "name": "python",
   "nbconvert_exporter": "python",
   "pygments_lexer": "ipython3",
   "version": "3.11.1"
  }
 },
 "nbformat": 4,
 "nbformat_minor": 5
}
